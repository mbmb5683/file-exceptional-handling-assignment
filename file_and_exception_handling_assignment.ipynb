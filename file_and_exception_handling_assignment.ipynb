{
  "nbformat": 4,
  "nbformat_minor": 0,
  "metadata": {
    "colab": {
      "provenance": []
    },
    "kernelspec": {
      "name": "python3",
      "display_name": "Python 3"
    },
    "language_info": {
      "name": "python"
    }
  },
  "cells": [
    {
      "cell_type": "markdown",
      "source": [
        "# **File & Exception handling assignment**"
      ],
      "metadata": {
        "id": "yzvofSa61-Dp"
      }
    },
    {
      "cell_type": "markdown",
      "source": [
        "# Theory Question\n",
        "\n",
        "1. What is the difference between interpreted and compiled languages?\n",
        "2. What is exception handling in Python?\n",
        "3. What is the purpose of the finally block in exception handling?\n",
        "4. What is logging in Python?\n",
        "5. What is the significance of the del method in Python?\n",
        "6. What is the difference between import and from ... import in Python?\n",
        "7. How can you handle multiple exceptions in Python?\n",
        "8. What is the purpose of the with statement when handling files in Python?\n",
        "9. What is the difference between multithreading and multiprocessing?\n",
        "10. What are the advantages of using logging in a program?\n",
        "11. What is memory management in Python?\n",
        "12. What are the basic steps involved in exception handling in Python?\n",
        "13. Why is memory management important in Python?\n",
        "14. What is the role of try and except in exception handling?\n",
        "15. How does Python's garbage collection system work?\n",
        "16. What is the purpose of the else block in exception handling?\n",
        "17. What are the common logging levels in Python?\n",
        "18. What is the difference between os.fork() and multiprocessing in Python?\n",
        "19. What is the importance of closing a file in Python?\n",
        "20. What is the difference between file.read() and file.readline() in Python?\n",
        "21. What is the logging module in Python used for?\n",
        "22. What is the os module in Python used for in file handling?\n",
        "23. What are the challenges associated with memory management in Python?\n",
        "24. How do you raise an exception manually in Python?\n",
        "25. Why is it important to use multithreading in certain applications?\n"
      ],
      "metadata": {
        "id": "NqFi753o2GCV"
      }
    },
    {
      "cell_type": "markdown",
      "source": [
        "# Theory Answer\n",
        "\n",
        "\n",
        "1. Compiled Language: in compiled language it first converts the source code into machine code\n",
        "\n",
        "  Interpreted language: in interpreted language source code are directly executed without compilation of code and in this code is executed line by line.\n",
        "\n",
        "2. Exceptional Handling: as we can understand by the name only that in suspecious line of code are handled by using try catch block to just avoid the error.\n",
        "\n",
        "3. Finally Block: As we all know that even after execution of except block finally block will execute it cannot get stopped even after the error raise.\n",
        "\n",
        "4. Logging: Logging is a most commom concept in python that is used to define the error by the levels like DEBUG, INFO , ERROR, CRITICAL...\n",
        "They just create the log file and show the level of error in the log file .\n",
        "\n",
        "5. DEL: del method in python is used to delete the directory but only if the directory is empty otherwise we have to import a module that is \"shutil\" to delete the hirarchy of the directory.\n",
        "\n",
        "6. import: import is used to import the modules form the package\n",
        "   from...import: from ... import means we are just importing the module form the package it belongs.\n",
        "\n",
        "7. Multiple Exception : When the multiple exception arises first we create the except block of specified error and then at last we create the final except block that contain all the exception in it that is : \"except Exception as e:\" this except block contains all type of error.\n",
        "\n",
        "8. With Statement: when we want to read the contain of the file we have to close the file then only we can read the content of the file but when we use \"with statement\" then we don't have to close the file it understand that after opening or reading the file the is automatically closed . just to avoid the corruption of file, file lock... etc.\n",
        "\n",
        "\n",
        "9. Multithreading : In multithreading we divide the processes into multiple threads that runs concurrently in the processor just to manage the memory .\n",
        "In multithreading sharing of resources aur memory space is also done.\n",
        "\n",
        "Multiprocessing: In multiprocessing the are multiple processor to execute the process . In multiprocessor processes are runs parallely.\n",
        "\n",
        "They both are used for memory management.\n",
        "\n",
        "\n",
        "10. Advantage of logging: Logging is used to categorise the message severity level.\n",
        "it also create the log file when an error generates without stopping the execution of code.\n",
        "\n",
        "\n",
        "11. Memory Management: Memory management is just a concept in which we handle the memory space, Execution time by using the multithreading and multiprocessing to get the executon time very less.\n",
        "this is also used to download the file's content, used in computation.\n",
        "\n",
        "12. Basic Step in Exceptional Handling:\n",
        "\n",
        "try:\n",
        "\n",
        "    suspicious line\n",
        "\n",
        "\n",
        "except Exception as e:\n",
        "\n",
        "    print(\"error\", e)\n",
        "\n",
        "\n",
        "This is how we handle the error in python.\n",
        "\n",
        "\n",
        "13. Memory Management: Memory management is just a concept in which we handle the memory space, Execution time by using the multithreading and multiprocessing to get the executon time very less.\n",
        "this is also used to download the file's content, used in computation.\n",
        "\n",
        "\n",
        "14. Try and Except role: try block is used to write the suspicious line of code where as except block is used to catch the error without stopping the execution of code.\n",
        "\n",
        "\n",
        "15. python Garbage collection: ChatGPT said:\n",
        "Python’s garbage collection system is responsible for automatically managing memory — freeing up memory that’s no longer being used by the program. This helps avoid memory leaks and keeps your program efficient.\n",
        "\n",
        "\n",
        "16. Else: Else block is used in exceptio handling just to seperate the exceptional handling it means that just write the suspecious code in try except block and the safe code in else block just to make the code more understandable and easier and else block is also executed when no error raised.\n",
        "\n",
        "\n",
        "17. Common logging level : Debug is most common logging level it is the lowest level of logging. and info is used to provide the informaton.\n",
        "\n",
        "\n",
        "18. ---------None---------\n",
        "\n",
        "Multiprocessing is used to run the process in multiple processes that is called multiprocessing in which processes are runs parallel.\n",
        "\n",
        "\n",
        "19. Closing the file: if we don't close the file then we have face when we try to read the files it will throw an error, we will be unable to read the content of the file , it will also corrupt the file sometimes, and file lock so to avoid this type of problem that's why we close the file . and in python if we don't close the file after writting the file then we can't open the file as read mode.\n",
        "\n",
        "20. file.read () : in this we read the content of the file in one go .\n",
        "\n",
        "    file.readline(): it is used to read only one line at a time.\n",
        "    it is useful when we have to read the content of the file line by line.\n",
        "\n",
        "\n",
        "21. logging module: logging module is used to avoid the error by using the level of log without stopping the execution of program .\n",
        "logging is  used to provide the message as per the level o severity of code.\n",
        "\n",
        "\n",
        "22. os module: os module is used to interact with the operating system . when our program have to interact with our operating system to access the file or data from our device then at that time we have to import the os module to our code.\n",
        "\n",
        "\n",
        "23. Memory management : At the time of memory management we have to always take care of execution time of the program and memory space , resource.\n",
        "\n",
        "\n",
        "24. When we have to raise an error manually we have to use the keyword that is \"raise\".\n",
        "\n",
        "25. multithreading: as we all know that in multithreading is very useful because it divides the processes into threads and then it executes it just provide the shortcut to the execution of time to use less time for computation or downloading the file or data."
      ],
      "metadata": {
        "id": "SnD9FV3U2KGQ"
      }
    },
    {
      "cell_type": "markdown",
      "source": [
        "# Practical Question\n"
      ],
      "metadata": {
        "id": "hA1LRV1O2N3d"
      }
    },
    {
      "cell_type": "code",
      "source": [
        "#1. How can you open a file for writing in Python and write a string to it?\n",
        "\n",
        "with open (\"example.txt\", \"w\")as f:\n",
        "  f.write(\"this is how we open the file\\n\")\n",
        "  f.write(\"this is my secod line \")"
      ],
      "metadata": {
        "id": "jS9ct3u919as"
      },
      "execution_count": null,
      "outputs": []
    },
    {
      "cell_type": "code",
      "execution_count": null,
      "metadata": {
        "id": "bJUyVuv31zXT"
      },
      "outputs": [],
      "source": [
        "#2. Write a Python program to read the contents of a file and print each line.\n",
        "\n",
        "\n",
        "with open(\"reading_file_content\", \"w\")as f:    #writing the file\n",
        "  f.write(\"Why to Learn Python?\\n\")\n",
        "  f.write(\"python is an easiest language\\n\")\n",
        "  f.write(\"python is a high level language\\n\")\n",
        "  f.write(\"used in AI and ML part\\n\")\n",
        "  f.write(\"python is a case sensitive language\")\n",
        "\n",
        "\n"
      ]
    },
    {
      "cell_type": "code",
      "source": [
        "file= open (\"reading_file_content\", \"r\")      #readling the file content using f. read()  method we can also use some more methods to read the file like\n",
        "print(file.read())                            #readlines(), readline()\n",
        "file.close()"
      ],
      "metadata": {
        "colab": {
          "base_uri": "https://localhost:8080/"
        },
        "id": "9c2O89SA9MJN",
        "outputId": "ccff9733-d70b-4de0-e328-7111a1c83dbf"
      },
      "execution_count": null,
      "outputs": [
        {
          "output_type": "stream",
          "name": "stdout",
          "text": [
            "Why to Learn Python?\n",
            "python is an easiest language\n",
            "python is a high level language\n",
            "used in AI and ML part\n",
            "python is a case sensitive language\n"
          ]
        }
      ]
    },
    {
      "cell_type": "code",
      "source": [
        "#3. How would you handle a case where the file doesn't exist while trying to open it for reading?\n",
        "try:\n",
        "  with open(\"my_cv.txt\", \"r\")as f:\n",
        "    f.read()\n",
        "\n",
        "except FileNotFoundError as e :\n",
        "  print(\"file not found\", e)"
      ],
      "metadata": {
        "colab": {
          "base_uri": "https://localhost:8080/"
        },
        "id": "bQfLlXEp_UK-",
        "outputId": "a8eb981f-d4a9-4778-a646-07f999cd352f"
      },
      "execution_count": null,
      "outputs": [
        {
          "output_type": "stream",
          "name": "stdout",
          "text": [
            "file not found [Errno 2] No such file or directory: 'my_cv.txt'\n"
          ]
        }
      ]
    },
    {
      "cell_type": "code",
      "source": [
        "#4. Write a Python script that reads from one file and writes its content to another file.\n",
        "\n",
        "with open (\"file_write.txt\", \"w\")as f:\n",
        "  f.write(\"The mission of the Python Software Foundation is to promote, protect,\\n\")\n",
        "  f.write(\"and advance the Python programming language, and to support and facilitate the growth of a diverse and international community of Python programmers.\")\n",
        "\n",
        "\n",
        "with open (\"file_write.txt\", \"r\")as f:\n",
        "  file_content= f.read()"
      ],
      "metadata": {
        "id": "St5sNCJNDheK"
      },
      "execution_count": null,
      "outputs": []
    },
    {
      "cell_type": "code",
      "source": [
        "with open (\"another_file_content.txt\", \"w\")as f:\n",
        "  f.write(file_content)"
      ],
      "metadata": {
        "id": "y56REncoD-m_"
      },
      "execution_count": null,
      "outputs": []
    },
    {
      "cell_type": "code",
      "source": [
        "#5. How would you catch and handle a division by zero error in Python?\n",
        "\n",
        "try:\n",
        "  for i in range (-5,5):\n",
        "    print(i/(i+1))\n",
        "\n",
        "except ZeroDivisionError as e:\n",
        "  print(e)"
      ],
      "metadata": {
        "colab": {
          "base_uri": "https://localhost:8080/"
        },
        "id": "6chivtZUD-jQ",
        "outputId": "a497ce1c-6c6b-44f7-a171-ed7c207b45dc"
      },
      "execution_count": null,
      "outputs": [
        {
          "output_type": "stream",
          "name": "stdout",
          "text": [
            "1.25\n",
            "1.3333333333333333\n",
            "1.5\n",
            "2.0\n",
            "division by zero\n"
          ]
        }
      ]
    },
    {
      "cell_type": "code",
      "source": [
        "#6. Write a Python program that logs an error message to a log file when a division by zero exception occurs.\n",
        "\n",
        "import logging, os\n",
        "for handler in logging.root.handlers[:]:\n",
        "    logging.root.removeHandler(handler)\n",
        "    logging.basicConfig(filename=\"error_log.log\", level=logging.ERROR)\n",
        "\n",
        "\n",
        "    try :\n",
        "      def func():\n",
        "        for i in range (-5,5):\n",
        "          print(i/(i+1))\n",
        "      func()\n",
        "    except ZeroDivisionError as e:\n",
        "      logging.error(f\"error occured {e}\")\n"
      ],
      "metadata": {
        "colab": {
          "base_uri": "https://localhost:8080/"
        },
        "id": "93ZfFn2YD-cN",
        "outputId": "ac266887-9e22-434a-ae74-d115379ae8ec"
      },
      "execution_count": null,
      "outputs": [
        {
          "output_type": "stream",
          "name": "stdout",
          "text": [
            "1.25\n",
            "1.3333333333333333\n",
            "1.5\n",
            "2.0\n"
          ]
        }
      ]
    },
    {
      "cell_type": "code",
      "source": [
        "#7. How do you log information at different levels (INFO, ERROR, WARNING) in Python using the logging module?\n",
        "import logging, os\n",
        "for handler in logging.root.handlers[:]:\n",
        "    logging.root.removeHandler(handler)\n",
        "\n",
        "\n",
        "    logging.basicConfig(filename=\"logging_levels.log\", level= logging.INFO)\n",
        "\n",
        "    logging.info(\"This is an info message\")\n",
        "\n",
        "    logging.error(\"This is an error message\")\n",
        "\n",
        "    logging.warning(\"This is a warning message\")\n",
        "\n",
        "    logging.critical(\"This is a critical message\")\n",
        "\n",
        "    logging.debug(\"This is a debug message\")\n"
      ],
      "metadata": {
        "id": "G4ohgOcnD-Yg"
      },
      "execution_count": null,
      "outputs": []
    },
    {
      "cell_type": "code",
      "source": [
        "#8. Write a program to handle a file opening error using exception handling.\n",
        "\n",
        "try :\n",
        "  with open(\"bj.txt\", \"r\")as f:\n",
        "    f.read()\n",
        "\n",
        "except FileNotFoundError as e:\n",
        "  print(\"file not found\", e)"
      ],
      "metadata": {
        "colab": {
          "base_uri": "https://localhost:8080/"
        },
        "id": "5tWxioUwxSsC",
        "outputId": "a5a58ecc-4bc6-4ad8-dd8a-18cb0659c835"
      },
      "execution_count": null,
      "outputs": [
        {
          "output_type": "stream",
          "name": "stdout",
          "text": [
            "file not found [Errno 2] No such file or directory: 'bj.txt'\n"
          ]
        }
      ]
    },
    {
      "cell_type": "code",
      "source": [
        "#9. How can you read a file line by line and store its content in a list in Python?\n",
        "\n",
        "with open(\"content_file.txt\", \"w\")as f:\n",
        "  f.write(\"hii i am mohit , \")\n",
        "  f.write(\"i am pwskills student , \")\n",
        "  f.write(\"my course is Data Analytics,  \")"
      ],
      "metadata": {
        "id": "ye1azCkBxkqd"
      },
      "execution_count": null,
      "outputs": []
    },
    {
      "cell_type": "code",
      "source": [
        "with open(\"content_file.txt\", \"r\")as f:\n",
        "  print(list(f.readlines()))"
      ],
      "metadata": {
        "colab": {
          "base_uri": "https://localhost:8080/"
        },
        "id": "3GNrDTDJywVt",
        "outputId": "1c5ad34c-1aa8-4473-fa5f-1d5c6884e0c8"
      },
      "execution_count": null,
      "outputs": [
        {
          "output_type": "stream",
          "name": "stdout",
          "text": [
            "['hii i am mohit , i am pwskills student , my course is Data Analytics,  ']\n"
          ]
        }
      ]
    },
    {
      "cell_type": "code",
      "source": [
        "#10. How can you append data to an existing file in Python?\n",
        "\n",
        "with open (\"existing_file.txt\", \"a\")as f:\n",
        "  f.write(\"i am mohit raj\\n\")\n",
        "  f.write(\"i have done my graduation from bhopal engineering clg \\n\")\n",
        "  f.write(\"i am a student of pwskills also\\n\")\n",
        "\n",
        "\n"
      ],
      "metadata": {
        "id": "tnWwqZV1zHRn"
      },
      "execution_count": null,
      "outputs": []
    },
    {
      "cell_type": "code",
      "source": [
        "with open (\"existing_file.txt\", \"a\")as f:\n",
        "  f.write(\"currently i am working as data analysist in pwskills\")"
      ],
      "metadata": {
        "id": "zAibG94zztoy"
      },
      "execution_count": null,
      "outputs": []
    },
    {
      "cell_type": "code",
      "source": [
        "#11. Write a Python program that uses a try-except block to handle an error when attempting to access a dictionary key that doesn't exist.\n",
        "\n",
        "data = {\"name\": \"Ajay\",\n",
        "        \"email\": \"aj@gmail.com\",\n",
        "        \"contact\": 123\n",
        "      }\n",
        "\n",
        "try :\n",
        "  print(data[\"age\"])\n",
        "except KeyError as e:\n",
        "  print(\"key does not exist: \", e)\n",
        "\n",
        "except Exception as e:\n",
        "  print(e)"
      ],
      "metadata": {
        "colab": {
          "base_uri": "https://localhost:8080/"
        },
        "id": "kV_yAHQO1TT0",
        "outputId": "6720a95e-96eb-402b-a0fd-d1d4e6be5766"
      },
      "execution_count": null,
      "outputs": [
        {
          "output_type": "stream",
          "name": "stdout",
          "text": [
            "key does not exist:  'age'\n"
          ]
        }
      ]
    },
    {
      "cell_type": "code",
      "source": [
        "#12. Write a program that demonstrates using multiple except blocks to handle different types of exceptions.\n",
        "\n",
        "data = {\"name\": \"Ajay\",\n",
        "        \"email\": \"aj@gmail.com\",\n",
        "        \"contact\": 123\n",
        "      }\n",
        "\n",
        "try :\n",
        "  print(data[\"age\"])\n",
        "except KeyError as e:\n",
        "  print(\"key does not exist: \", e)\n",
        "\n",
        "except TypeError as e:\n",
        "  print(\"type error\", e)\n",
        "\n",
        "except ValueError as e:\n",
        "  print(\"value error\", e)\n",
        "\n",
        "except Exception as e:\n",
        "  print(e)"
      ],
      "metadata": {
        "colab": {
          "base_uri": "https://localhost:8080/"
        },
        "id": "NJ1OXYQ23M3c",
        "outputId": "daf51247-2aae-4527-d5ab-fbe6c102198e"
      },
      "execution_count": null,
      "outputs": [
        {
          "output_type": "stream",
          "name": "stdout",
          "text": [
            "key does not exist:  'age'\n"
          ]
        }
      ]
    },
    {
      "cell_type": "code",
      "source": [
        "#13. How would you check if a file exists before attempting to read it in Python?\n",
        "\n",
        "import os\n",
        "\n",
        "print(os.path.exists(\"file_exist.txt\"))\n",
        "!ls   #by this also we can check the file\n",
        "\n",
        "#this is how we check the file exist or not\n",
        "\n",
        "\n",
        "# we can also use [!ls] to check the file exist or not"
      ],
      "metadata": {
        "colab": {
          "base_uri": "https://localhost:8080/"
        },
        "id": "dAHtB3V83yzj",
        "outputId": "23707abb-88a0-4de8-bdfa-86bda5479b8c"
      },
      "execution_count": null,
      "outputs": [
        {
          "output_type": "stream",
          "name": "stdout",
          "text": [
            "False\n",
            "another_file_content.txt  drive\t\t existing_file.txt  logging_levels.log\n",
            "content_file.txt\t  error_log.log  file_write.txt     sample_data\n"
          ]
        }
      ]
    },
    {
      "cell_type": "code",
      "source": [
        "#14. Write a program that uses the logging module to log both informational and error messages.\n",
        "\n",
        "import logging\n",
        "for handler in logging.root.handlers[:]:\n",
        "    logging.root.removeHandler(handler)\n",
        "\n",
        "logging.basicConfig(\n",
        "    filename=\"log1_file.log\",\n",
        "    level= logging.DEBUG\n",
        ")\n",
        "\n",
        "def divide (a,b):\n",
        "  logging.info(f\"dividing the two numbers {a} and {b}\")\n",
        "  try:\n",
        "    result= a/b\n",
        "    logging.info(f\"division successful {result}\")\n",
        "    return result\n",
        "  except ZeroDivisionError as e:\n",
        "    logging.error(f\"error occured {e}\")\n",
        "    return None\n",
        "divide (10,2)\n",
        "divide(5,0)"
      ],
      "metadata": {
        "id": "mZaVgDyx4FzE"
      },
      "execution_count": null,
      "outputs": []
    },
    {
      "cell_type": "code",
      "source": [
        "#15. Write a Python program that prints the content of a file and handles the case when the file is empty.\n",
        "import os\n",
        "with open (\"write.txt\", \"w\")as f:\n",
        "  pass\n",
        "\n",
        "try :\n",
        "  if os.path.getsize(\"write.txt\")>0:\n",
        "    with open (\"write.txt\", \"r\")as f:\n",
        "      print(f.read())\n",
        "\n",
        "except FileNotFoundError as e:\n",
        "  if os.path.getsize(\"write.txt\")==0:\n",
        "    raise FileNotFoundError (\"file is empty\")\n",
        ""
      ],
      "metadata": {
        "id": "RGovcBC4CA8d"
      },
      "execution_count": 13,
      "outputs": []
    },
    {
      "cell_type": "code",
      "source": [
        "pip install memory-profiler"
      ],
      "metadata": {
        "colab": {
          "base_uri": "https://localhost:8080/"
        },
        "id": "8Qfyx7DKl_zQ",
        "outputId": "13bb75ab-e0d2-41f1-be6f-6684d4ee3da9"
      },
      "execution_count": 16,
      "outputs": [
        {
          "output_type": "stream",
          "name": "stdout",
          "text": [
            "Collecting memory-profiler\n",
            "  Downloading memory_profiler-0.61.0-py3-none-any.whl.metadata (20 kB)\n",
            "Requirement already satisfied: psutil in /usr/local/lib/python3.11/dist-packages (from memory-profiler) (5.9.5)\n",
            "Downloading memory_profiler-0.61.0-py3-none-any.whl (31 kB)\n",
            "Installing collected packages: memory-profiler\n",
            "Successfully installed memory-profiler-0.61.0\n"
          ]
        }
      ]
    },
    {
      "cell_type": "code",
      "source": [
        "#16. Demonstrate how to use memory profiling to check the memory usage of a small program.\n",
        "\n"
      ],
      "metadata": {
        "id": "oaonT-9chLns"
      },
      "execution_count": null,
      "outputs": []
    },
    {
      "cell_type": "code",
      "source": [
        "#17. Write a Python program to create and write a list of numbers to a file, one number per line.\n",
        "\n",
        "numbers = [1, 2, 3, 4, 5]\n",
        "\n",
        "\n",
        "with open(\"numbers.txt\", \"w\") as file:\n",
        "\n",
        "    for number in numbers:\n",
        "        file.write(f\"{number}\\n\")\n"
      ],
      "metadata": {
        "id": "ZY7FFfl6le66"
      },
      "execution_count": 22,
      "outputs": []
    },
    {
      "cell_type": "code",
      "source": [
        "#18. How would you implement a basic logging setup that logs to a file with rotation after 1MB?\n",
        "\n"
      ],
      "metadata": {
        "id": "lZf5wrnUmOYL"
      },
      "execution_count": null,
      "outputs": []
    },
    {
      "cell_type": "code",
      "source": [
        "#19. Write a program that handles both IndexError and KeyError using a try-except block.\n",
        "num=[1,2,3,4]\n",
        "data={\n",
        "    \"name\": \"Ajay\",\n",
        "    \"age\":22,\n",
        "    \"Address\":\"delhi\"\n",
        "}\n",
        "try:\n",
        "  print(num[4])\n",
        "\n",
        "except IndexError as e:\n",
        "  print(\"Indexerror : \", e)\n",
        "\n",
        "try:\n",
        "  print(data[\"email\"])\n",
        "\n",
        "except KeyError as e:\n",
        "  print(\"keyerror: \", e)"
      ],
      "metadata": {
        "colab": {
          "base_uri": "https://localhost:8080/"
        },
        "id": "fHff-jAJozCp",
        "outputId": "69670081-1499-4f96-9342-5261297088a3"
      },
      "execution_count": 27,
      "outputs": [
        {
          "output_type": "stream",
          "name": "stdout",
          "text": [
            "Indexerror :  list index out of range\n",
            "keyerror:  'email'\n"
          ]
        }
      ]
    },
    {
      "cell_type": "code",
      "source": [
        "#20. How would you open a file and read its contents using a context manager in Python?\n",
        "\n",
        "\n",
        "with open (\"rohit.txt\", \"w\")as f:\n",
        "  f.write(\"my name is rohit\\n\")\n",
        "  f.write(\"i live in delhi\\n\")\n",
        "  f.write(\"i am pursuing my graduation from delhi university\\n\")\n",
        "  f.write(\"as well as i am also a student of dhristi and preparing my UPSC Examination\")\n",
        "\n",
        "\n"
      ],
      "metadata": {
        "id": "sNXgHO2apNkX"
      },
      "execution_count": 31,
      "outputs": []
    },
    {
      "cell_type": "code",
      "source": [
        "with open (\"rohit.txt\", \"r\")as file:\n",
        "  print(file.read())"
      ],
      "metadata": {
        "colab": {
          "base_uri": "https://localhost:8080/"
        },
        "id": "81Jio5BLudyh",
        "outputId": "ddbbd472-2504-49f8-d81b-125a0923314c"
      },
      "execution_count": 32,
      "outputs": [
        {
          "output_type": "stream",
          "name": "stdout",
          "text": [
            "my name is rohit\n",
            "i live in delhi\n",
            "i am pursuing my graduation from delhi university\n",
            "as well as i am also a student of dhristi and preparing my UPSC Examination\n"
          ]
        }
      ]
    },
    {
      "cell_type": "code",
      "source": [
        "#21. Write a Python program that reads a file and prints the number of occurrences of a specific word.\n",
        "\n",
        "with open (\"rohit.txt\", \"w\")as f:\n",
        "  f.write(\"my name is rohit\\n\")\n",
        "  f.write(\"i live in delhi\\n\")\n",
        "  f.write(\"i am pursuing my graduation from delhi university\\n\")\n",
        "  f.write(\"as well as i am also a student of dhristi and preparing my UPSC Examination\")\n",
        "\n",
        "with open (\"rohit.txt\", \"r\")as file:\n",
        "  content= file.read()\n",
        "  word=content.lower().split(\" \")\n",
        "  count= word.count(\"well\")\n",
        "  print(count)\n"
      ],
      "metadata": {
        "colab": {
          "base_uri": "https://localhost:8080/"
        },
        "id": "0hgSkVKIu45b",
        "outputId": "d6f3ada3-c3be-4d5d-d81e-9563e2e98f9a"
      },
      "execution_count": 41,
      "outputs": [
        {
          "output_type": "stream",
          "name": "stdout",
          "text": [
            "1\n"
          ]
        }
      ]
    },
    {
      "cell_type": "code",
      "source": [
        "#22. How can you check if a file is empty before attempting to read its contents?\n",
        "\n",
        "with open (\"file_empty.txt\", \"w\")as f:\n",
        "  pass\n",
        "\n",
        "try:\n",
        "  if os.path.getsize(\"file_empty.txt\")<=0:\n",
        "    print(\"file is empty\")\n",
        "\n",
        "  else:\n",
        "    with open (\"file_empty.txt\", \"r\")as f:\n",
        "      print(f.read())\n",
        "\n",
        "except FileNotFoundError as e:\n",
        "  print (\"file not found \" , e)"
      ],
      "metadata": {
        "colab": {
          "base_uri": "https://localhost:8080/"
        },
        "id": "0wQSc29SxmeR",
        "outputId": "9b798124-b05d-45ad-da64-467bfe935517"
      },
      "execution_count": 44,
      "outputs": [
        {
          "output_type": "stream",
          "name": "stdout",
          "text": [
            "file is empty\n"
          ]
        }
      ]
    },
    {
      "cell_type": "code",
      "source": [
        "#23. Write a Python program that writes to a log file when an error occurs during file handling.\n",
        "\n",
        "import logging\n",
        "for handler in logging.root.handlers[:]:\n",
        "    logging.root.removeHandler(handler)\n",
        "logging.basicConfig(filename=\"error_log.log\", level=logging.ERROR)\n",
        "try:\n",
        "  with open (\"raj.txt\", \"r\")as f:\n",
        "    f.read()\n",
        "\n",
        "except FileNotFoundError as e:\n",
        "  logging.error(f\"error occured {e}\")"
      ],
      "metadata": {
        "id": "mxlgvYnG0SI8"
      },
      "execution_count": 45,
      "outputs": []
    },
    {
      "cell_type": "code",
      "source": [],
      "metadata": {
        "id": "xPkU3RwK1HPY"
      },
      "execution_count": null,
      "outputs": []
    }
  ]
}